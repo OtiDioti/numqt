{
 "cells": [
  {
   "cell_type": "code",
   "execution_count": 5,
   "id": "dbcaa5b9-ebab-44cb-9706-508ee8cd2fac",
   "metadata": {},
   "outputs": [
    {
     "ename": "ModuleNotFoundError",
     "evalue": "No module named 'classes'",
     "output_type": "error",
     "traceback": [
      "\u001b[0;31m---------------------------------------------------------------------------\u001b[0m",
      "\u001b[0;31mModuleNotFoundError\u001b[0m                       Traceback (most recent call last)",
      "Cell \u001b[0;32mIn[5], line 1\u001b[0m\n\u001b[0;32m----> 1\u001b[0m \u001b[38;5;28;01mfrom\u001b[39;00m\u001b[38;5;250m \u001b[39m\u001b[38;5;21;01mclasses\u001b[39;00m\u001b[38;5;250m \u001b[39m\u001b[38;5;28;01mimport\u001b[39;00m \u001b[38;5;241m*\u001b[39m\n\u001b[1;32m      2\u001b[0m \u001b[38;5;28;01mfrom\u001b[39;00m\u001b[38;5;250m \u001b[39m\u001b[38;5;21;01mutils\u001b[39;00m\u001b[38;5;250m \u001b[39m\u001b[38;5;28;01mimport\u001b[39;00m \u001b[38;5;241m*\u001b[39m\n\u001b[1;32m      3\u001b[0m \u001b[38;5;28;01mfrom\u001b[39;00m\u001b[38;5;250m \u001b[39m\u001b[38;5;21;01mscipy\u001b[39;00m\u001b[38;5;250m \u001b[39m\u001b[38;5;28;01mimport\u001b[39;00m sparse\n",
      "\u001b[0;31mModuleNotFoundError\u001b[0m: No module named 'classes'"
     ]
    }
   ],
   "source": [
    "from classes import *\n",
    "from utils import *\n",
    "from scipy import sparse\n",
    "from scipy.sparse.linalg import eigsh as sparse_eig\n",
    "import plotly.graph_objects as go\n",
    "from skimage import measure"
   ]
  },
  {
   "cell_type": "code",
   "execution_count": null,
   "id": "c0c0438b-4e78-4db8-97f7-85b759d891f8",
   "metadata": {},
   "outputs": [],
   "source": [
    "#-----------------------------------------------------------\n",
    "# Characteristic lengths of the problem\n",
    "#-----------------------------------------------------------\n",
    "Lx = 1 # Characteristic length along x\n",
    "\n",
    "#-----------------------------------------------------------\n",
    "# Problem's parameters\n",
    "#-----------------------------------------------------------\n",
    "hbar = 1\n",
    "m = 1 # e-mass\n",
    "wx = hbar / (m * Lx) # x confinement frequency\n",
    "\n",
    "#-----------------------------------------------------------\n",
    "# Simulation parameters\n",
    "#-----------------------------------------------------------\n",
    "xbounds = (-15*Lx, 15*Lx) # 10 times the confinement length\n",
    "dx_max = 0.01 # Global maximum allowed spacing outside the cluster cube.\n",
    "\n",
    "#-----------------------------------------------------------\n",
    "# Creating grid\n",
    "#-----------------------------------------------------------\n",
    "mesh_obj = Mesh(dims=1,\n",
    "                 xbounds=xbounds,\n",
    "                 dx_max=dx_max,\n",
    "                 dx_func = None,\n",
    "                 dy_func= None,\n",
    "                 dz_func= None,\n",
    "                 max_iter= 10)\n",
    "dimx = mesh_obj.Nx\n",
    "mesh_obj.visualize_grid(alpha = 0.1)\n",
    "dimx"
   ]
  },
  {
   "cell_type": "code",
   "execution_count": null,
   "id": "3b173082-806e-4276-82ed-7392c5411d1d",
   "metadata": {},
   "outputs": [],
   "source": [
    "#-----------------------------------------------------------\n",
    "# Obtaining canonical operators\n",
    "#-----------------------------------------------------------\n",
    "operators = canonic_ops(mesh_obj, additional_subspaces = None, hbar=1)\n",
    "px2 = operators.get_ops()[\"p2\"]\n",
    "x2 = operators.get_ops()[\"x2\"]\n",
    "\n",
    "#-----------------------------------------------------------\n",
    "# Constructing the Hamiltonian\n",
    "#-----------------------------------------------------------\n",
    "H = Hamiltonian(px2 / (2*m) + 0.5 * m * x2 * wx**2, mesh_obj)"
   ]
  },
  {
   "cell_type": "code",
   "execution_count": null,
   "id": "5db9c3fc-00c9-423a-a089-6b426091a1cc",
   "metadata": {},
   "outputs": [],
   "source": [
    "k = 100\n",
    "energies, wavefunctions = H.solve(k)"
   ]
  },
  {
   "cell_type": "code",
   "execution_count": null,
   "id": "f98b7a9b-08c8-456a-84a0-e72f4a09475d",
   "metadata": {},
   "outputs": [],
   "source": [
    "H.plot(0)"
   ]
  },
  {
   "cell_type": "code",
   "execution_count": null,
   "id": "bbff55e6-ac15-4c5b-9e6a-9995ff553259",
   "metadata": {},
   "outputs": [],
   "source": [
    "plt.scatter([hbar * wx *(n + 0.5) for n in range(0, k)], range(0, k), c=\"r\", s = 10, label = \"analytics\")\n",
    "plt.scatter(sorted(energies), range(0, k), c=\"b\", s = 10, label = \"numerics\")\n",
    "plt.legend()\n",
    "plt.ylabel(\"E\")\n",
    "plt.xlabel(\"n\")"
   ]
  },
  {
   "cell_type": "code",
   "execution_count": null,
   "id": "a6072573-1c47-4abf-81f2-6c4dd9265f18",
   "metadata": {},
   "outputs": [],
   "source": []
  }
 ],
 "metadata": {
  "kernelspec": {
   "display_name": "Python 3 (ipykernel)",
   "language": "python",
   "name": "python3"
  },
  "language_info": {
   "codemirror_mode": {
    "name": "ipython",
    "version": 3
   },
   "file_extension": ".py",
   "mimetype": "text/x-python",
   "name": "python",
   "nbconvert_exporter": "python",
   "pygments_lexer": "ipython3",
   "version": "3.10.16"
  }
 },
 "nbformat": 4,
 "nbformat_minor": 5
}
