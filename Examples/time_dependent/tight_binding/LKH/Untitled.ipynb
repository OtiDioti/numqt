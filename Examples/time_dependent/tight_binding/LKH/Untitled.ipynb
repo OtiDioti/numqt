{
 "cells": [
  {
   "cell_type": "code",
   "execution_count": 4,
   "id": "2495e5b4-75ce-46c7-81b9-f2871726fe3c",
   "metadata": {},
   "outputs": [],
   "source": [
    "from parameters import get_params\n",
    "from perturbative_well_solver import TriangularWell\n",
    "from numpy import inf, vdot"
   ]
  },
  {
   "cell_type": "code",
   "execution_count": 5,
   "id": "9747e84a-2ef0-45ca-9350-45847b15cc1c",
   "metadata": {},
   "outputs": [],
   "source": [
    "hbar = 1\n",
    "m    = 1\n",
    "e    = 1\n",
    "\n",
    "Lx = 1\n",
    "Ly = 1\n",
    "Lz = 1\n",
    "LE = 1\n",
    "LB = inf\n",
    "params = get_params(Lx=Lx, Ly=Ly, Lz=Lz, LB=LB, LE=LE, m=m, e=e, hbar=hbar)\n",
    "\n",
    "N = 7\n",
    "k = N-2\n",
    "center_z = 0\n",
    "\n",
    "solver_heavy = TriangularWell(L=Lz, E=params[\"Ez\"], N=N, center=center_z, mass=params[\"mzH\"], hbar=hbar)\n",
    "EH_s, vecs_heavy = solver_heavy.solve(k)\n",
    "\n",
    "solver_light = TriangularWell(L=Lz, E=params[\"Ez\"], N=N, center=center_z, mass=params[\"mzL\"], hbar=hbar)\n",
    "EL_s, vecs_light = solver_light.solve(k)\n",
    "\n",
    "EH_0 = EH_s[0]\n",
    "pz_HL_s = [solver_light.p_mn(vecs_heavy[:,0], vecs_light[:,j]) for j in range(k)] # which solver is used to compute p_mn is irrelevant\n",
    "overlaps = [vdot(vecs_heavy[:,0], vecs_light[:,j]) for j in range(k)]\n",
    "\n"
   ]
  },
  {
   "cell_type": "code",
   "execution_count": null,
   "id": "0c6edd01-d196-4bec-9f4c-68b193406da7",
   "metadata": {},
   "outputs": [],
   "source": [
    "<\n"
   ]
  },
  {
   "cell_type": "code",
   "execution_count": null,
   "id": "46d71551-7ce4-416f-92f6-9e693bb7611f",
   "metadata": {},
   "outputs": [],
   "source": []
  }
 ],
 "metadata": {
  "kernelspec": {
   "display_name": "Python 3 (ipykernel)",
   "language": "python",
   "name": "python3"
  },
  "language_info": {
   "codemirror_mode": {
    "name": "ipython",
    "version": 3
   },
   "file_extension": ".py",
   "mimetype": "text/x-python",
   "name": "python",
   "nbconvert_exporter": "python",
   "pygments_lexer": "ipython3",
   "version": "3.13.2"
  }
 },
 "nbformat": 4,
 "nbformat_minor": 5
}
