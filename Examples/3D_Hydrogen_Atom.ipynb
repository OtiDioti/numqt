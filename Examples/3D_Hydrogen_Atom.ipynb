{
 "cells": [
  {
   "cell_type": "code",
   "execution_count": null,
   "id": "dbcaa5b9-ebab-44cb-9706-508ee8cd2fac",
   "metadata": {},
   "outputs": [],
   "source": [
    "from numqt import *"
   ]
  },
  {
   "cell_type": "code",
   "execution_count": null,
   "id": "c0c0438b-4e78-4db8-97f7-85b759d891f8",
   "metadata": {},
   "outputs": [],
   "source": [
    "#-----------------------------------------------------------\n",
    "# Characteristic lengths of the problem\n",
    "#-----------------------------------------------------------\n",
    "a0 = 1 # Bohr radius\n",
    "Lx = 20 # Confinement length along x\n",
    "Ly = 20 # Confinement length along y\n",
    "Lz = 20 # Confinement length along z\n",
    "\n",
    "#-----------------------------------------------------------\n",
    "# Problem's parameters\n",
    "#-----------------------------------------------------------\n",
    "hbar = 1 # reduced planck constant\n",
    "m = 1 # e-mass\n",
    "uu = 1 # reduced mass (nucleus + electron)\n",
    "\n",
    "#-----------------------------------------------------------\n",
    "# Simulation parameters\n",
    "#-----------------------------------------------------------\n",
    "xbounds = (-Lx/2, Lx/2) # confinement length\n",
    "ybounds = (-Ly/2, Ly/2) # confinement length\n",
    "zbounds = (-Lz/2, Lz/2) # confinement length\n",
    "\n",
    "dx_max = 0.3 # Global maximum allowed spacing\n",
    "dy_max = 0.3 # Global maximum allowed spacing\n",
    "dz_max = 0.3 # Global maximum allowed spacing\n",
    "\n",
    "\n",
    "#-----------------------------------------------------------\n",
    "# Creating grid\n",
    "#-----------------------------------------------------------\n",
    "mesh_obj = Mesh(dims=3,\n",
    "                 xbounds=xbounds,\n",
    "                 ybounds=ybounds,\n",
    "                 zbounds=zbounds,\n",
    "                 dx_max=dx_max,\n",
    "                 dy_max=dy_max,\n",
    "                 dz_max=dz_max,\n",
    "                 dx_func = None,\n",
    "                 dy_func= None,\n",
    "                 dz_func= None,\n",
    "                 max_iter= 10)\n",
    "\n",
    "dimx = mesh_obj.Nx\n",
    "dimy = mesh_obj.Ny\n",
    "dimz = mesh_obj.Nz\n",
    "mesh_obj.visualize_slice(\"x\", 0, alpha = 0.5)\n",
    "print(dimx, dimy, dimz)"
   ]
  },
  {
   "cell_type": "code",
   "execution_count": null,
   "id": "3b173082-806e-4276-82ed-7392c5411d1d",
   "metadata": {},
   "outputs": [],
   "source": [
    "#-----------------------------------------------------------\n",
    "# Obtaining canonical operators\n",
    "#-----------------------------------------------------------\n",
    "operators = canonic_ops(mesh_obj, additional_subspaces = None, hbar=1)\n",
    "px2 = operators.get_ops()[\"p2\"][0]\n",
    "x2 = operators.get_ops()[\"x2\"][0]\n",
    "\n",
    "py2 = operators.get_ops()[\"p2\"][1]\n",
    "y2 = operators.get_ops()[\"x2\"][1]\n",
    "\n",
    "pz2 = operators.get_ops()[\"p2\"][2]\n",
    "z2 = operators.get_ops()[\"x2\"][2]\n",
    "\n",
    "r_inv = sparse.diags(1/(np.sqrt(x2.diagonal() + y2.diagonal() + z2.diagonal())+ np.ones(x2.shape[0])*1e-10), format = \"csr\")\n",
    "#-----------------------------------------------------------\n",
    "# Constructing the Hamiltonian\n",
    "#-----------------------------------------------------------\n",
    "H = Hamiltonian((px2 + py2 + pz2) / (2*uu) - r_inv /(uu*a0), mesh_obj)"
   ]
  },
  {
   "cell_type": "code",
   "execution_count": null,
   "id": "5db9c3fc-00c9-423a-a089-6b426091a1cc",
   "metadata": {},
   "outputs": [],
   "source": [
    "k = 10\n",
    "energies, wavefunctions = H.solve(k)"
   ]
  },
  {
   "cell_type": "code",
   "execution_count": null,
   "id": "f98b7a9b-08c8-456a-84a0-e72f4a09475d",
   "metadata": {},
   "outputs": [],
   "source": [
    "H.plot(0)"
   ]
  },
  {
   "cell_type": "code",
   "execution_count": null,
   "id": "bbff55e6-ac15-4c5b-9e6a-9995ff553259",
   "metadata": {},
   "outputs": [],
   "source": [
    "# Define the analytical energy function\n",
    "def energy(n):\n",
    "    return -hbar**2 / (2 * m * a0**2  * n**2)\n",
    "\n",
    "# Generate analytical energy levels\n",
    "analytical_energies = sorted([energy(n) for n in range(1, k+1)])[:k]\n",
    "\n",
    "# Plot\n",
    "plt.figure(figsize=(8, 6))\n",
    "plt.scatter(range(1,k+1), analytical_energies, c=\"r\", s=20, label=\"Analytics\")\n",
    "plt.scatter(range(1,k+1), energies, c=\"b\", s=20, label=\"Numerics\")\n",
    "plt.legend()\n",
    "plt.ylabel(\"Energy (E)\")\n",
    "plt.xlabel(\"Energy Level (n)\")\n",
    "plt.title(\"Comparison of Analytical and Numerical Energy Levels\")\n",
    "plt.grid(True)\n",
    "\n",
    "plt.show()"
   ]
  },
  {
   "cell_type": "code",
   "execution_count": null,
   "id": "a6072573-1c47-4abf-81f2-6c4dd9265f18",
   "metadata": {},
   "outputs": [],
   "source": []
  }
 ],
 "metadata": {
  "kernelspec": {
   "display_name": "Python 3 (ipykernel)",
   "language": "python",
   "name": "python3"
  },
  "language_info": {
   "codemirror_mode": {
    "name": "ipython",
    "version": 3
   },
   "file_extension": ".py",
   "mimetype": "text/x-python",
   "name": "python",
   "nbconvert_exporter": "python",
   "pygments_lexer": "ipython3",
   "version": "3.13.2"
  }
 },
 "nbformat": 4,
 "nbformat_minor": 5
}
